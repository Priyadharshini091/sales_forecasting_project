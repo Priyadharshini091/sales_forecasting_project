{
 "cells": [
  {
   "cell_type": "code",
   "execution_count": null,
   "id": "6874d203",
   "metadata": {},
   "outputs": [
    {
     "name": "stdout",
     "output_type": "stream",
     "text": [
      "Requirement already satisfied: pandas in c:\\users\\admin\\onedrive\\documents\\sales_forecasting_project\\.venv\\lib\\site-packages (2.2.3)\n",
      "Requirement already satisfied: numpy>=1.22.4 in c:\\users\\admin\\onedrive\\documents\\sales_forecasting_project\\.venv\\lib\\site-packages (from pandas) (2.2.5)\n",
      "Requirement already satisfied: python-dateutil>=2.8.2 in c:\\users\\admin\\onedrive\\documents\\sales_forecasting_project\\.venv\\lib\\site-packages (from pandas) (2.9.0.post0)\n",
      "Requirement already satisfied: pytz>=2020.1 in c:\\users\\admin\\onedrive\\documents\\sales_forecasting_project\\.venv\\lib\\site-packages (from pandas) (2025.2)\n",
      "Requirement already satisfied: tzdata>=2022.7 in c:\\users\\admin\\onedrive\\documents\\sales_forecasting_project\\.venv\\lib\\site-packages (from pandas) (2025.2)\n",
      "Requirement already satisfied: six>=1.5 in c:\\users\\admin\\onedrive\\documents\\sales_forecasting_project\\.venv\\lib\\site-packages (from python-dateutil>=2.8.2->pandas) (1.17.0)\n"
     ]
    }
   ],
   "source": [
    "%pip install pandas "
   ]
  },
  {
   "cell_type": "code",
   "execution_count": null,
   "id": "78ac952f",
   "metadata": {},
   "outputs": [
    {
     "name": "stdout",
     "output_type": "stream",
     "text": [
      "Requirement already satisfied: numpy in c:\\users\\admin\\onedrive\\documents\\sales_forecasting_project\\.venv\\lib\\site-packages (2.2.5)\n"
     ]
    }
   ],
   "source": [
    "%pip install numpy "
   ]
  },
  {
   "cell_type": "code",
   "execution_count": null,
   "id": "ce866952",
   "metadata": {},
   "outputs": [
    {
     "name": "stdout",
     "output_type": "stream",
     "text": [
      "Requirement already satisfied: numpy in c:\\users\\admin\\onedrive\\documents\\sales_forecasting_project\\.venv\\lib\\site-packages (2.2.5)\n"
     ]
    }
   ],
   "source": [
    "%pip install numpy"
   ]
  },
  {
   "cell_type": "code",
   "execution_count": 5,
   "id": "98003ab1",
   "metadata": {},
   "outputs": [],
   "source": [
    "import pandas as pd\n",
    "import numpy as np"
   ]
  },
  {
   "cell_type": "code",
   "execution_count": 6,
   "id": "edb6afe9",
   "metadata": {},
   "outputs": [],
   "source": [
    "df = pd.read_csv(\"../data/processed/cleaned_sales_data.csv\")"
   ]
  },
  {
   "cell_type": "code",
   "execution_count": 7,
   "id": "216add0f",
   "metadata": {},
   "outputs": [],
   "source": [
    "df['Date'] = pd.to_datetime(df['Date'])"
   ]
  },
  {
   "cell_type": "code",
   "execution_count": 9,
   "id": "65466b7e",
   "metadata": {},
   "outputs": [],
   "source": [
    "Q1 = df[df['Holiday_Flag'] == 0]['Weekly_Sales'].quantile(0.25)\n",
    "Q3 = df[df['Holiday_Flag'] ==0][\"Weekly_Sales\"].quantile(0.75)\n",
    "IQR = Q3 - Q1"
   ]
  },
  {
   "cell_type": "code",
   "execution_count": 10,
   "id": "0f18d740",
   "metadata": {},
   "outputs": [],
   "source": [
    "condition = (df['Weekly_Sales'] >= (Q1 - 1.5*IQR))&\\\n",
    "            (df['Weekly_Sales'] <= (Q3 + 1.5*IQR))&\\\n",
    "            (df['Holiday_Flag'] == 1)\n",
    "                \n",
    "df = df[condition]"
   ]
  },
  {
   "cell_type": "code",
   "execution_count": 11,
   "id": "c29036b4",
   "metadata": {},
   "outputs": [
    {
     "name": "stderr",
     "output_type": "stream",
     "text": [
      "C:\\Users\\ADMIN\\AppData\\Local\\Temp\\ipykernel_8956\\1495708517.py:2: SettingWithCopyWarning: \n",
      "A value is trying to be set on a copy of a slice from a DataFrame.\n",
      "Try using .loc[row_indexer,col_indexer] = value instead\n",
      "\n",
      "See the caveats in the documentation: https://pandas.pydata.org/pandas-docs/stable/user_guide/indexing.html#returning-a-view-versus-a-copy\n",
      "  df['Day_of_week'] = df['Date'].dt.dayofweek\n",
      "C:\\Users\\ADMIN\\AppData\\Local\\Temp\\ipykernel_8956\\1495708517.py:3: SettingWithCopyWarning: \n",
      "A value is trying to be set on a copy of a slice from a DataFrame.\n",
      "Try using .loc[row_indexer,col_indexer] = value instead\n",
      "\n",
      "See the caveats in the documentation: https://pandas.pydata.org/pandas-docs/stable/user_guide/indexing.html#returning-a-view-versus-a-copy\n",
      "  df['Quarter'] = df['Date'].dt.quarter\n",
      "C:\\Users\\ADMIN\\AppData\\Local\\Temp\\ipykernel_8956\\1495708517.py:5: SettingWithCopyWarning: \n",
      "A value is trying to be set on a copy of a slice from a DataFrame.\n",
      "Try using .loc[row_indexer,col_indexer] = value instead\n",
      "\n",
      "See the caveats in the documentation: https://pandas.pydata.org/pandas-docs/stable/user_guide/indexing.html#returning-a-view-versus-a-copy\n",
      "  df['Is_month_end'] = df['Date'].dt.is_month_end.astype(int)\n"
     ]
    }
   ],
   "source": [
    "# Time-Based Features\n",
    "df['Day_of_week'] = df['Date'].dt.dayofweek\n",
    "df['Quarter'] = df['Date'].dt.quarter\n",
    "\n",
    "df['Is_month_end'] = df['Date'].dt.is_month_end.astype(int)"
   ]
  },
  {
   "cell_type": "code",
   "execution_count": 13,
   "id": "2f2cd2bf",
   "metadata": {},
   "outputs": [
    {
     "name": "stderr",
     "output_type": "stream",
     "text": [
      "C:\\Users\\ADMIN\\AppData\\Local\\Temp\\ipykernel_8956\\3146048033.py:1: SettingWithCopyWarning: \n",
      "A value is trying to be set on a copy of a slice from a DataFrame.\n",
      "Try using .loc[row_indexer,col_indexer] = value instead\n",
      "\n",
      "See the caveats in the documentation: https://pandas.pydata.org/pandas-docs/stable/user_guide/indexing.html#returning-a-view-versus-a-copy\n",
      "  df['Day_sin'] = np.sin(2 * np.pi * df['Day_of_week']/7)\n",
      "C:\\Users\\ADMIN\\AppData\\Local\\Temp\\ipykernel_8956\\3146048033.py:2: SettingWithCopyWarning: \n",
      "A value is trying to be set on a copy of a slice from a DataFrame.\n",
      "Try using .loc[row_indexer,col_indexer] = value instead\n",
      "\n",
      "See the caveats in the documentation: https://pandas.pydata.org/pandas-docs/stable/user_guide/indexing.html#returning-a-view-versus-a-copy\n",
      "  df['day_cos'] = np.cos(2 * np.pi * df['Day_of_week']/7)\n"
     ]
    }
   ],
   "source": [
    "df['Day_sin'] = np.sin(2 * np.pi * df['Day_of_week']/7)\n",
    "df['day_cos'] = np.cos(2 * np.pi * df['Day_of_week']/7)"
   ]
  },
  {
   "cell_type": "code",
   "execution_count": 14,
   "id": "b13afcdc",
   "metadata": {},
   "outputs": [
    {
     "name": "stderr",
     "output_type": "stream",
     "text": [
      "C:\\Users\\ADMIN\\AppData\\Local\\Temp\\ipykernel_8956\\2079437666.py:1: SettingWithCopyWarning: \n",
      "A value is trying to be set on a copy of a slice from a DataFrame.\n",
      "Try using .loc[row_indexer,col_indexer] = value instead\n",
      "\n",
      "See the caveats in the documentation: https://pandas.pydata.org/pandas-docs/stable/user_guide/indexing.html#returning-a-view-versus-a-copy\n",
      "  df['Month_sin'] = np.sin(2 * np.pi * df['Month']/12)\n",
      "C:\\Users\\ADMIN\\AppData\\Local\\Temp\\ipykernel_8956\\2079437666.py:2: SettingWithCopyWarning: \n",
      "A value is trying to be set on a copy of a slice from a DataFrame.\n",
      "Try using .loc[row_indexer,col_indexer] = value instead\n",
      "\n",
      "See the caveats in the documentation: https://pandas.pydata.org/pandas-docs/stable/user_guide/indexing.html#returning-a-view-versus-a-copy\n",
      "  df['Month_cos'] = np.cos(2 * np.pi * df['Month']/12)\n"
     ]
    }
   ],
   "source": [
    "df['Month_sin'] = np.sin(2 * np.pi * df['Month']/12)\n",
    "df['Month_cos'] = np.cos(2 * np.pi * df['Month']/12)"
   ]
  },
  {
   "cell_type": "code",
   "execution_count": 15,
   "id": "46175cf7",
   "metadata": {},
   "outputs": [
    {
     "name": "stderr",
     "output_type": "stream",
     "text": [
      "C:\\Users\\ADMIN\\AppData\\Local\\Temp\\ipykernel_8956\\2439834824.py:1: SettingWithCopyWarning: \n",
      "A value is trying to be set on a copy of a slice from a DataFrame.\n",
      "Try using .loc[row_indexer,col_indexer] = value instead\n",
      "\n",
      "See the caveats in the documentation: https://pandas.pydata.org/pandas-docs/stable/user_guide/indexing.html#returning-a-view-versus-a-copy\n",
      "  df['Lag_1'] = df.groupby('Store')['Weekly_Sales'].shift(1)\n"
     ]
    }
   ],
   "source": [
    "df['Lag_1'] = df.groupby('Store')['Weekly_Sales'].shift(1)"
   ]
  },
  {
   "cell_type": "code",
   "execution_count": 16,
   "id": "239ff59d",
   "metadata": {},
   "outputs": [
    {
     "name": "stderr",
     "output_type": "stream",
     "text": [
      "C:\\Users\\ADMIN\\AppData\\Local\\Temp\\ipykernel_8956\\3329300325.py:1: SettingWithCopyWarning: \n",
      "A value is trying to be set on a copy of a slice from a DataFrame.\n",
      "Try using .loc[row_indexer,col_indexer] = value instead\n",
      "\n",
      "See the caveats in the documentation: https://pandas.pydata.org/pandas-docs/stable/user_guide/indexing.html#returning-a-view-versus-a-copy\n",
      "  df['Rolling_4'] = df.groupby('Store')['Weekly_Sales'].transform(\n",
      "C:\\Users\\ADMIN\\AppData\\Local\\Temp\\ipykernel_8956\\3329300325.py:3: SettingWithCopyWarning: \n",
      "A value is trying to be set on a copy of a slice from a DataFrame.\n",
      "Try using .loc[row_indexer,col_indexer] = value instead\n",
      "\n",
      "See the caveats in the documentation: https://pandas.pydata.org/pandas-docs/stable/user_guide/indexing.html#returning-a-view-versus-a-copy\n",
      "  df['Rolling_12'] = df.groupby('Store')['Weekly_Sales'].transform(\n"
     ]
    }
   ],
   "source": [
    "df['Rolling_4'] = df.groupby('Store')['Weekly_Sales'].transform(\n",
    "    lambda x: x.rolling(4, min_periods=1).mean())\n",
    "df['Rolling_12'] = df.groupby('Store')['Weekly_Sales'].transform(\n",
    "    lambda x: x.rolling(12, min_periods=1).mean())"
   ]
  },
  {
   "cell_type": "code",
   "execution_count": 25,
   "id": "9540e9b0",
   "metadata": {},
   "outputs": [
    {
     "name": "stderr",
     "output_type": "stream",
     "text": [
      "C:\\Users\\ADMIN\\AppData\\Local\\Temp\\ipykernel_8956\\3143033494.py:1: SettingWithCopyWarning: \n",
      "A value is trying to be set on a copy of a slice from a DataFrame.\n",
      "Try using .loc[row_indexer,col_indexer] = value instead\n",
      "\n",
      "See the caveats in the documentation: https://pandas.pydata.org/pandas-docs/stable/user_guide/indexing.html#returning-a-view-versus-a-copy\n",
      "  df['Month'] = df['Date'].dt.month\n",
      "C:\\Users\\ADMIN\\AppData\\Local\\Temp\\ipykernel_8956\\3143033494.py:2: SettingWithCopyWarning: \n",
      "A value is trying to be set on a copy of a slice from a DataFrame.\n",
      "Try using .loc[row_indexer,col_indexer] = value instead\n",
      "\n",
      "See the caveats in the documentation: https://pandas.pydata.org/pandas-docs/stable/user_guide/indexing.html#returning-a-view-versus-a-copy\n",
      "  df['Week'] = df['Date'].dt.isocalendar().week\n"
     ]
    }
   ],
   "source": [
    "df['Month'] = df['Date'].dt.month\n",
    "df['Week'] = df['Date'].dt.isocalendar().week\n"
   ]
  },
  {
   "cell_type": "code",
   "execution_count": 26,
   "id": "7efca217",
   "metadata": {},
   "outputs": [
    {
     "name": "stderr",
     "output_type": "stream",
     "text": [
      "C:\\Users\\ADMIN\\AppData\\Local\\Temp\\ipykernel_8956\\2497544653.py:2: SettingWithCopyWarning: \n",
      "A value is trying to be set on a copy of a slice from a DataFrame.\n",
      "Try using .loc[row_indexer,col_indexer] = value instead\n",
      "\n",
      "See the caveats in the documentation: https://pandas.pydata.org/pandas-docs/stable/user_guide/indexing.html#returning-a-view-versus-a-copy\n",
      "  df['Is_Thanksgiving'] = ((df['Month'] == 11) & (df['Week'].isin([47, 48]))).astype(int)\n",
      "C:\\Users\\ADMIN\\AppData\\Local\\Temp\\ipykernel_8956\\2497544653.py:3: SettingWithCopyWarning: \n",
      "A value is trying to be set on a copy of a slice from a DataFrame.\n",
      "Try using .loc[row_indexer,col_indexer] = value instead\n",
      "\n",
      "See the caveats in the documentation: https://pandas.pydata.org/pandas-docs/stable/user_guide/indexing.html#returning-a-view-versus-a-copy\n",
      "  df['Is_Christmas'] = ((df['Month'] == 12) & (df['Week'].isin([51, 52]))).astype(int)\n"
     ]
    }
   ],
   "source": [
    "# Mark major US holidays (Thanksgiving, Christmas, Super Bowl)\n",
    "df['Is_Thanksgiving'] = ((df['Month'] == 11) & (df['Week'].isin([47, 48]))).astype(int)\n",
    "df['Is_Christmas'] = ((df['Month'] == 12) & (df['Week'].isin([51, 52]))).astype(int)\n"
   ]
  },
  {
   "cell_type": "code",
   "execution_count": 21,
   "id": "d05b0717",
   "metadata": {},
   "outputs": [
    {
     "name": "stderr",
     "output_type": "stream",
     "text": [
      "C:\\Users\\ADMIN\\AppData\\Local\\Temp\\ipykernel_8956\\3330496588.py:2: SettingWithCopyWarning: \n",
      "A value is trying to be set on a copy of a slice from a DataFrame.\n",
      "Try using .loc[row_indexer,col_indexer] = value instead\n",
      "\n",
      "See the caveats in the documentation: https://pandas.pydata.org/pandas-docs/stable/user_guide/indexing.html#returning-a-view-versus-a-copy\n",
      "  df['Fuel_Change'] = df.groupby('Store')['Fuel_Price'].pct_change()\n",
      "C:\\Users\\ADMIN\\AppData\\Local\\Temp\\ipykernel_8956\\3330496588.py:3: SettingWithCopyWarning: \n",
      "A value is trying to be set on a copy of a slice from a DataFrame.\n",
      "Try using .loc[row_indexer,col_indexer] = value instead\n",
      "\n",
      "See the caveats in the documentation: https://pandas.pydata.org/pandas-docs/stable/user_guide/indexing.html#returning-a-view-versus-a-copy\n",
      "  df['CPI_Change'] = df.groupby('Store')['CPI'].pct_change()\n",
      "C:\\Users\\ADMIN\\AppData\\Local\\Temp\\ipykernel_8956\\3330496588.py:6: SettingWithCopyWarning: \n",
      "A value is trying to be set on a copy of a slice from a DataFrame.\n",
      "Try using .loc[row_indexer,col_indexer] = value instead\n",
      "\n",
      "See the caveats in the documentation: https://pandas.pydata.org/pandas-docs/stable/user_guide/indexing.html#returning-a-view-versus-a-copy\n",
      "  df['Unemployment_Rel'] = df['Unemployment'] / df.groupby('Store')['Unemployment'].transform('mean')\n"
     ]
    }
   ],
   "source": [
    "# Rate of change in economic indicators\n",
    "df['Fuel_Change'] = df.groupby('Store')['Fuel_Price'].pct_change()\n",
    "df['CPI_Change'] = df.groupby('Store')['CPI'].pct_change()\n",
    "\n",
    "# Relative unemployment (vs store average)\n",
    "df['Unemployment_Rel'] = df['Unemployment'] / df.groupby('Store')['Unemployment'].transform('mean')"
   ]
  },
  {
   "cell_type": "code",
   "execution_count": 29,
   "id": "880e80f2",
   "metadata": {},
   "outputs": [],
   "source": [
    "df.to_csv(\"../data/processed/walmart_final.csv\", index=False)"
   ]
  },
  {
   "cell_type": "code",
   "execution_count": null,
   "id": "22d8374a",
   "metadata": {},
   "outputs": [],
   "source": []
  }
 ],
 "metadata": {
  "kernelspec": {
   "display_name": ".venv",
   "language": "python",
   "name": "python3"
  },
  "language_info": {
   "codemirror_mode": {
    "name": "ipython",
    "version": 3
   },
   "file_extension": ".py",
   "mimetype": "text/x-python",
   "name": "python",
   "nbconvert_exporter": "python",
   "pygments_lexer": "ipython3",
   "version": "3.10.11"
  }
 },
 "nbformat": 4,
 "nbformat_minor": 5
}
