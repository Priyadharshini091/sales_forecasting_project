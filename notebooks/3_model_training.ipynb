{
 "cells": [
  {
   "cell_type": "code",
   "execution_count": 13,
   "id": "bfbbe398",
   "metadata": {},
   "outputs": [
    {
     "name": "stdout",
     "output_type": "stream",
     "text": [
      "Requirement already satisfied: pandas in c:\\users\\admin\\onedrive\\documents\\sales_forecasting_project\\.venv\\lib\\site-packages (2.2.3)\n",
      "Requirement already satisfied: numpy>=1.22.4 in c:\\users\\admin\\onedrive\\documents\\sales_forecasting_project\\.venv\\lib\\site-packages (from pandas) (2.2.5)\n",
      "Requirement already satisfied: python-dateutil>=2.8.2 in c:\\users\\admin\\onedrive\\documents\\sales_forecasting_project\\.venv\\lib\\site-packages (from pandas) (2.9.0.post0)\n",
      "Requirement already satisfied: pytz>=2020.1 in c:\\users\\admin\\onedrive\\documents\\sales_forecasting_project\\.venv\\lib\\site-packages (from pandas) (2025.2)\n",
      "Requirement already satisfied: tzdata>=2022.7 in c:\\users\\admin\\onedrive\\documents\\sales_forecasting_project\\.venv\\lib\\site-packages (from pandas) (2025.2)\n",
      "Requirement already satisfied: six>=1.5 in c:\\users\\admin\\onedrive\\documents\\sales_forecasting_project\\.venv\\lib\\site-packages (from python-dateutil>=2.8.2->pandas) (1.17.0)\n",
      "Note: you may need to restart the kernel to use updated packages.\n",
      "Requirement already satisfied: numpy in c:\\users\\admin\\onedrive\\documents\\sales_forecasting_project\\.venv\\lib\\site-packages (2.2.5)\n",
      "Note: you may need to restart the kernel to use updated packages.\n",
      "Requirement already satisfied: scikit-learn in c:\\users\\admin\\onedrive\\documents\\sales_forecasting_project\\.venv\\lib\\site-packages (1.6.1)\n",
      "Requirement already satisfied: numpy>=1.19.5 in c:\\users\\admin\\onedrive\\documents\\sales_forecasting_project\\.venv\\lib\\site-packages (from scikit-learn) (2.2.5)\n",
      "Requirement already satisfied: scipy>=1.6.0 in c:\\users\\admin\\onedrive\\documents\\sales_forecasting_project\\.venv\\lib\\site-packages (from scikit-learn) (1.15.2)\n",
      "Requirement already satisfied: joblib>=1.2.0 in c:\\users\\admin\\onedrive\\documents\\sales_forecasting_project\\.venv\\lib\\site-packages (from scikit-learn) (1.4.2)\n",
      "Requirement already satisfied: threadpoolctl>=3.1.0 in c:\\users\\admin\\onedrive\\documents\\sales_forecasting_project\\.venv\\lib\\site-packages (from scikit-learn) (3.6.0)\n",
      "Note: you may need to restart the kernel to use updated packages.\n"
     ]
    }
   ],
   "source": [
    "%pip install pandas\n",
    "%pip install numpy \n",
    "%pip install scikit-learn"
   ]
  },
  {
   "cell_type": "code",
   "execution_count": 8,
   "id": "72583ac3",
   "metadata": {},
   "outputs": [],
   "source": [
    "import pandas as pd\n",
    "import numpy as np\n",
    "from sklearn.model_selection import train_test_split\n",
    "from sklearn.metrics import mean_absolute_error,mean_squared_error"
   ]
  },
  {
   "cell_type": "code",
   "execution_count": 9,
   "id": "5220b1c0",
   "metadata": {},
   "outputs": [],
   "source": [
    "df = pd.read_csv(\"../data/processed/walmart_final.csv\")"
   ]
  },
  {
   "cell_type": "code",
   "execution_count": 10,
   "id": "8ad7db91",
   "metadata": {},
   "outputs": [],
   "source": [
    "df['Date'] = pd.to_datetime(df['Date'])"
   ]
  },
  {
   "cell_type": "code",
   "execution_count": 11,
   "id": "302ed2df",
   "metadata": {},
   "outputs": [],
   "source": [
    "test_cutoff = df['Date'].max() - pd.DateOffset(months = 3)\n",
    "train = df[df['Date'] < test_cutoff]\n",
    "test = df[df['Date'] >= test_cutoff]"
   ]
  },
  {
   "cell_type": "code",
   "execution_count": 12,
   "id": "ac2dbc69",
   "metadata": {},
   "outputs": [],
   "source": [
    "stores = df['Store'].unique()"
   ]
  },
  {
   "cell_type": "code",
   "execution_count": 2,
   "id": "2ae5af0f",
   "metadata": {},
   "outputs": [
    {
     "name": "stdout",
     "output_type": "stream",
     "text": [
      "Requirement already satisfied: statsmodels in c:\\users\\admin\\onedrive\\documents\\sales_forecasting_project\\.venv\\lib\\site-packages (0.14.4)\n",
      "Requirement already satisfied: xgboost in c:\\users\\admin\\onedrive\\documents\\sales_forecasting_project\\.venv\\lib\\site-packages (3.0.0)\n",
      "Collecting prophet\n",
      "  Using cached prophet-1.1.6-py3-none-win_amd64.whl.metadata (3.6 kB)\n",
      "Requirement already satisfied: scikit-learn in c:\\users\\admin\\onedrive\\documents\\sales_forecasting_project\\.venv\\lib\\site-packages (1.6.1)\n",
      "Requirement already satisfied: pandas in c:\\users\\admin\\onedrive\\documents\\sales_forecasting_project\\.venv\\lib\\site-packages (2.2.3)\n",
      "Requirement already satisfied: numpy in c:\\users\\admin\\onedrive\\documents\\sales_forecasting_project\\.venv\\lib\\site-packages (2.2.5)\n",
      "Requirement already satisfied: matplotlib in c:\\users\\admin\\onedrive\\documents\\sales_forecasting_project\\.venv\\lib\\site-packages (3.10.1)\n",
      "Requirement already satisfied: seaborn in c:\\users\\admin\\onedrive\\documents\\sales_forecasting_project\\.venv\\lib\\site-packages (0.13.2)\n",
      "Requirement already satisfied: scipy!=1.9.2,>=1.8 in c:\\users\\admin\\onedrive\\documents\\sales_forecasting_project\\.venv\\lib\\site-packages (from statsmodels) (1.15.2)\n",
      "Requirement already satisfied: patsy>=0.5.6 in c:\\users\\admin\\onedrive\\documents\\sales_forecasting_project\\.venv\\lib\\site-packages (from statsmodels) (1.0.1)\n",
      "Requirement already satisfied: packaging>=21.3 in c:\\users\\admin\\onedrive\\documents\\sales_forecasting_project\\.venv\\lib\\site-packages (from statsmodels) (25.0)\n",
      "Collecting cmdstanpy>=1.0.4 (from prophet)\n",
      "  Using cached cmdstanpy-1.2.5-py3-none-any.whl.metadata (4.0 kB)\n",
      "Requirement already satisfied: holidays<1,>=0.25 in c:\\users\\admin\\onedrive\\documents\\sales_forecasting_project\\.venv\\lib\\site-packages (from prophet) (0.71)\n",
      "Requirement already satisfied: tqdm>=4.36.1 in c:\\users\\admin\\onedrive\\documents\\sales_forecasting_project\\.venv\\lib\\site-packages (from prophet) (4.67.1)\n",
      "Requirement already satisfied: importlib-resources in c:\\users\\admin\\onedrive\\documents\\sales_forecasting_project\\.venv\\lib\\site-packages (from prophet) (6.5.2)\n",
      "Requirement already satisfied: joblib>=1.2.0 in c:\\users\\admin\\onedrive\\documents\\sales_forecasting_project\\.venv\\lib\\site-packages (from scikit-learn) (1.4.2)\n",
      "Requirement already satisfied: threadpoolctl>=3.1.0 in c:\\users\\admin\\onedrive\\documents\\sales_forecasting_project\\.venv\\lib\\site-packages (from scikit-learn) (3.6.0)\n",
      "Requirement already satisfied: python-dateutil>=2.8.2 in c:\\users\\admin\\onedrive\\documents\\sales_forecasting_project\\.venv\\lib\\site-packages (from pandas) (2.9.0.post0)\n",
      "Requirement already satisfied: pytz>=2020.1 in c:\\users\\admin\\onedrive\\documents\\sales_forecasting_project\\.venv\\lib\\site-packages (from pandas) (2025.2)\n",
      "Requirement already satisfied: tzdata>=2022.7 in c:\\users\\admin\\onedrive\\documents\\sales_forecasting_project\\.venv\\lib\\site-packages (from pandas) (2025.2)\n",
      "Requirement already satisfied: contourpy>=1.0.1 in c:\\users\\admin\\onedrive\\documents\\sales_forecasting_project\\.venv\\lib\\site-packages (from matplotlib) (1.3.2)\n",
      "Requirement already satisfied: cycler>=0.10 in c:\\users\\admin\\onedrive\\documents\\sales_forecasting_project\\.venv\\lib\\site-packages (from matplotlib) (0.12.1)\n",
      "Requirement already satisfied: fonttools>=4.22.0 in c:\\users\\admin\\onedrive\\documents\\sales_forecasting_project\\.venv\\lib\\site-packages (from matplotlib) (4.57.0)\n",
      "Requirement already satisfied: kiwisolver>=1.3.1 in c:\\users\\admin\\onedrive\\documents\\sales_forecasting_project\\.venv\\lib\\site-packages (from matplotlib) (1.4.8)\n",
      "Requirement already satisfied: pillow>=8 in c:\\users\\admin\\onedrive\\documents\\sales_forecasting_project\\.venv\\lib\\site-packages (from matplotlib) (11.2.1)\n",
      "Requirement already satisfied: pyparsing>=2.3.1 in c:\\users\\admin\\onedrive\\documents\\sales_forecasting_project\\.venv\\lib\\site-packages (from matplotlib) (3.2.3)\n",
      "Requirement already satisfied: stanio<2.0.0,>=0.4.0 in c:\\users\\admin\\onedrive\\documents\\sales_forecasting_project\\.venv\\lib\\site-packages (from cmdstanpy>=1.0.4->prophet) (0.5.1)\n",
      "Requirement already satisfied: six>=1.5 in c:\\users\\admin\\onedrive\\documents\\sales_forecasting_project\\.venv\\lib\\site-packages (from python-dateutil>=2.8.2->pandas) (1.17.0)\n",
      "Requirement already satisfied: colorama in c:\\users\\admin\\onedrive\\documents\\sales_forecasting_project\\.venv\\lib\\site-packages (from tqdm>=4.36.1->prophet) (0.4.6)\n",
      "Using cached prophet-1.1.6-py3-none-win_amd64.whl (13.3 MB)\n",
      "Using cached cmdstanpy-1.2.5-py3-none-any.whl (94 kB)\n",
      "Installing collected packages: cmdstanpy, prophet\n",
      "Successfully installed cmdstanpy-1.2.5 prophet-1.1.6\n",
      "Note: you may need to restart the kernel to use updated packages.\n"
     ]
    }
   ],
   "source": [
    "%pip install statsmodels xgboost prophet scikit-learn pandas numpy matplotlib seaborn"
   ]
  },
  {
   "cell_type": "code",
   "execution_count": 7,
   "id": "d3337a59",
   "metadata": {},
   "outputs": [
    {
     "name": "stdout",
     "output_type": "stream",
     "text": [
      "Trained SARIMA for Store 1\n",
      "Trained SARIMA for Store 2\n",
      "Trained SARIMA for Store 3\n",
      "Trained SARIMA for Store 4\n",
      "Trained SARIMA for Store 5\n",
      "Trained SARIMA for Store 6\n",
      "Trained SARIMA for Store 7\n",
      "Trained SARIMA for Store 8\n",
      "Trained SARIMA for Store 9\n",
      "Trained SARIMA for Store 10\n",
      "Trained SARIMA for Store 11\n",
      "Trained SARIMA for Store 12\n",
      "Trained SARIMA for Store 13\n",
      "Trained SARIMA for Store 14\n",
      "Trained SARIMA for Store 15\n",
      "Trained SARIMA for Store 16\n",
      "Trained SARIMA for Store 17\n",
      "Trained SARIMA for Store 18\n",
      "Trained SARIMA for Store 19\n",
      "Trained SARIMA for Store 20\n",
      "Trained SARIMA for Store 21\n",
      "Trained SARIMA for Store 22\n",
      "Trained SARIMA for Store 23\n",
      "Trained SARIMA for Store 24\n",
      "Trained SARIMA for Store 25\n",
      "Trained SARIMA for Store 26\n",
      "Trained SARIMA for Store 27\n",
      "Trained SARIMA for Store 28\n",
      "Trained SARIMA for Store 29\n",
      "Trained SARIMA for Store 30\n",
      "Trained SARIMA for Store 31\n",
      "Trained SARIMA for Store 32\n",
      "Trained SARIMA for Store 33\n",
      "Trained SARIMA for Store 34\n",
      "Trained SARIMA for Store 35\n",
      "Trained SARIMA for Store 36\n",
      "Trained SARIMA for Store 37\n",
      "Trained SARIMA for Store 38\n",
      "Trained SARIMA for Store 39\n",
      "Trained SARIMA for Store 40\n",
      "Trained SARIMA for Store 41\n",
      "Trained SARIMA for Store 42\n",
      "Trained SARIMA for Store 43\n",
      "Trained SARIMA for Store 44\n",
      "Trained SARIMA for Store 45\n"
     ]
    },
    {
     "name": "stderr",
     "output_type": "stream",
     "text": [
      "c:\\Users\\ADMIN\\OneDrive\\Documents\\sales_forecasting_project\\.venv\\lib\\site-packages\\statsmodels\\tsa\\base\\tsa_model.py:837: ValueWarning: No supported index is available. Prediction results will be given with an integer index beginning at `start`.\n",
      "  return get_prediction_index(\n",
      "c:\\Users\\ADMIN\\OneDrive\\Documents\\sales_forecasting_project\\.venv\\lib\\site-packages\\statsmodels\\tsa\\base\\tsa_model.py:837: FutureWarning: No supported index is available. In the next version, calling this method in a model without a supported index will result in an exception.\n",
      "  return get_prediction_index(\n",
      "c:\\Users\\ADMIN\\OneDrive\\Documents\\sales_forecasting_project\\.venv\\lib\\site-packages\\statsmodels\\tsa\\base\\tsa_model.py:837: ValueWarning: No supported index is available. Prediction results will be given with an integer index beginning at `start`.\n",
      "  return get_prediction_index(\n",
      "c:\\Users\\ADMIN\\OneDrive\\Documents\\sales_forecasting_project\\.venv\\lib\\site-packages\\statsmodels\\tsa\\base\\tsa_model.py:837: ValueWarning: No supported index is available. Prediction results will be given with an integer index beginning at `start`.\n",
      "  return get_prediction_index(\n",
      "c:\\Users\\ADMIN\\OneDrive\\Documents\\sales_forecasting_project\\.venv\\lib\\site-packages\\statsmodels\\tsa\\base\\tsa_model.py:837: ValueWarning: No supported index is available. Prediction results will be given with an integer index beginning at `start`.\n",
      "  return get_prediction_index(\n",
      "c:\\Users\\ADMIN\\OneDrive\\Documents\\sales_forecasting_project\\.venv\\lib\\site-packages\\statsmodels\\tsa\\base\\tsa_model.py:837: ValueWarning: No supported index is available. Prediction results will be given with an integer index beginning at `start`.\n",
      "  return get_prediction_index(\n",
      "c:\\Users\\ADMIN\\OneDrive\\Documents\\sales_forecasting_project\\.venv\\lib\\site-packages\\statsmodels\\tsa\\base\\tsa_model.py:837: ValueWarning: No supported index is available. Prediction results will be given with an integer index beginning at `start`.\n",
      "  return get_prediction_index(\n",
      "c:\\Users\\ADMIN\\OneDrive\\Documents\\sales_forecasting_project\\.venv\\lib\\site-packages\\statsmodels\\tsa\\base\\tsa_model.py:837: ValueWarning: No supported index is available. Prediction results will be given with an integer index beginning at `start`.\n",
      "  return get_prediction_index(\n",
      "c:\\Users\\ADMIN\\OneDrive\\Documents\\sales_forecasting_project\\.venv\\lib\\site-packages\\statsmodels\\tsa\\base\\tsa_model.py:837: ValueWarning: No supported index is available. Prediction results will be given with an integer index beginning at `start`.\n",
      "  return get_prediction_index(\n",
      "c:\\Users\\ADMIN\\OneDrive\\Documents\\sales_forecasting_project\\.venv\\lib\\site-packages\\statsmodels\\tsa\\base\\tsa_model.py:837: ValueWarning: No supported index is available. Prediction results will be given with an integer index beginning at `start`.\n",
      "  return get_prediction_index(\n",
      "c:\\Users\\ADMIN\\OneDrive\\Documents\\sales_forecasting_project\\.venv\\lib\\site-packages\\statsmodels\\tsa\\base\\tsa_model.py:837: ValueWarning: No supported index is available. Prediction results will be given with an integer index beginning at `start`.\n",
      "  return get_prediction_index(\n",
      "c:\\Users\\ADMIN\\OneDrive\\Documents\\sales_forecasting_project\\.venv\\lib\\site-packages\\statsmodels\\tsa\\base\\tsa_model.py:837: ValueWarning: No supported index is available. Prediction results will be given with an integer index beginning at `start`.\n",
      "  return get_prediction_index(\n",
      "c:\\Users\\ADMIN\\OneDrive\\Documents\\sales_forecasting_project\\.venv\\lib\\site-packages\\statsmodels\\tsa\\base\\tsa_model.py:837: ValueWarning: No supported index is available. Prediction results will be given with an integer index beginning at `start`.\n",
      "  return get_prediction_index(\n",
      "c:\\Users\\ADMIN\\OneDrive\\Documents\\sales_forecasting_project\\.venv\\lib\\site-packages\\statsmodels\\tsa\\base\\tsa_model.py:837: ValueWarning: No supported index is available. Prediction results will be given with an integer index beginning at `start`.\n",
      "  return get_prediction_index(\n",
      "c:\\Users\\ADMIN\\OneDrive\\Documents\\sales_forecasting_project\\.venv\\lib\\site-packages\\statsmodels\\tsa\\base\\tsa_model.py:837: ValueWarning: No supported index is available. Prediction results will be given with an integer index beginning at `start`.\n",
      "  return get_prediction_index(\n",
      "c:\\Users\\ADMIN\\OneDrive\\Documents\\sales_forecasting_project\\.venv\\lib\\site-packages\\statsmodels\\tsa\\base\\tsa_model.py:837: ValueWarning: No supported index is available. Prediction results will be given with an integer index beginning at `start`.\n",
      "  return get_prediction_index(\n",
      "c:\\Users\\ADMIN\\OneDrive\\Documents\\sales_forecasting_project\\.venv\\lib\\site-packages\\statsmodels\\tsa\\base\\tsa_model.py:837: ValueWarning: No supported index is available. Prediction results will be given with an integer index beginning at `start`.\n",
      "  return get_prediction_index(\n",
      "c:\\Users\\ADMIN\\OneDrive\\Documents\\sales_forecasting_project\\.venv\\lib\\site-packages\\statsmodels\\tsa\\base\\tsa_model.py:837: ValueWarning: No supported index is available. Prediction results will be given with an integer index beginning at `start`.\n",
      "  return get_prediction_index(\n",
      "c:\\Users\\ADMIN\\OneDrive\\Documents\\sales_forecasting_project\\.venv\\lib\\site-packages\\statsmodels\\tsa\\base\\tsa_model.py:837: ValueWarning: No supported index is available. Prediction results will be given with an integer index beginning at `start`.\n",
      "  return get_prediction_index(\n",
      "c:\\Users\\ADMIN\\OneDrive\\Documents\\sales_forecasting_project\\.venv\\lib\\site-packages\\statsmodels\\tsa\\base\\tsa_model.py:837: ValueWarning: No supported index is available. Prediction results will be given with an integer index beginning at `start`.\n",
      "  return get_prediction_index(\n",
      "c:\\Users\\ADMIN\\OneDrive\\Documents\\sales_forecasting_project\\.venv\\lib\\site-packages\\statsmodels\\tsa\\base\\tsa_model.py:837: ValueWarning: No supported index is available. Prediction results will be given with an integer index beginning at `start`.\n",
      "  return get_prediction_index(\n",
      "c:\\Users\\ADMIN\\OneDrive\\Documents\\sales_forecasting_project\\.venv\\lib\\site-packages\\statsmodels\\tsa\\base\\tsa_model.py:837: ValueWarning: No supported index is available. Prediction results will be given with an integer index beginning at `start`.\n",
      "  return get_prediction_index(\n",
      "c:\\Users\\ADMIN\\OneDrive\\Documents\\sales_forecasting_project\\.venv\\lib\\site-packages\\statsmodels\\tsa\\base\\tsa_model.py:837: ValueWarning: No supported index is available. Prediction results will be given with an integer index beginning at `start`.\n",
      "  return get_prediction_index(\n",
      "c:\\Users\\ADMIN\\OneDrive\\Documents\\sales_forecasting_project\\.venv\\lib\\site-packages\\statsmodels\\tsa\\base\\tsa_model.py:837: ValueWarning: No supported index is available. Prediction results will be given with an integer index beginning at `start`.\n",
      "  return get_prediction_index(\n",
      "c:\\Users\\ADMIN\\OneDrive\\Documents\\sales_forecasting_project\\.venv\\lib\\site-packages\\statsmodels\\tsa\\base\\tsa_model.py:837: ValueWarning: No supported index is available. Prediction results will be given with an integer index beginning at `start`.\n",
      "  return get_prediction_index(\n",
      "c:\\Users\\ADMIN\\OneDrive\\Documents\\sales_forecasting_project\\.venv\\lib\\site-packages\\statsmodels\\tsa\\base\\tsa_model.py:837: ValueWarning: No supported index is available. Prediction results will be given with an integer index beginning at `start`.\n",
      "  return get_prediction_index(\n",
      "c:\\Users\\ADMIN\\OneDrive\\Documents\\sales_forecasting_project\\.venv\\lib\\site-packages\\statsmodels\\tsa\\base\\tsa_model.py:837: ValueWarning: No supported index is available. Prediction results will be given with an integer index beginning at `start`.\n",
      "  return get_prediction_index(\n",
      "c:\\Users\\ADMIN\\OneDrive\\Documents\\sales_forecasting_project\\.venv\\lib\\site-packages\\statsmodels\\tsa\\base\\tsa_model.py:837: ValueWarning: No supported index is available. Prediction results will be given with an integer index beginning at `start`.\n",
      "  return get_prediction_index(\n",
      "c:\\Users\\ADMIN\\OneDrive\\Documents\\sales_forecasting_project\\.venv\\lib\\site-packages\\statsmodels\\tsa\\base\\tsa_model.py:837: ValueWarning: No supported index is available. Prediction results will be given with an integer index beginning at `start`.\n",
      "  return get_prediction_index(\n",
      "c:\\Users\\ADMIN\\OneDrive\\Documents\\sales_forecasting_project\\.venv\\lib\\site-packages\\statsmodels\\tsa\\base\\tsa_model.py:837: ValueWarning: No supported index is available. Prediction results will be given with an integer index beginning at `start`.\n",
      "  return get_prediction_index(\n",
      "c:\\Users\\ADMIN\\OneDrive\\Documents\\sales_forecasting_project\\.venv\\lib\\site-packages\\statsmodels\\tsa\\base\\tsa_model.py:837: ValueWarning: No supported index is available. Prediction results will be given with an integer index beginning at `start`.\n",
      "  return get_prediction_index(\n",
      "c:\\Users\\ADMIN\\OneDrive\\Documents\\sales_forecasting_project\\.venv\\lib\\site-packages\\statsmodels\\tsa\\base\\tsa_model.py:837: ValueWarning: No supported index is available. Prediction results will be given with an integer index beginning at `start`.\n",
      "  return get_prediction_index(\n",
      "c:\\Users\\ADMIN\\OneDrive\\Documents\\sales_forecasting_project\\.venv\\lib\\site-packages\\statsmodels\\tsa\\base\\tsa_model.py:837: ValueWarning: No supported index is available. Prediction results will be given with an integer index beginning at `start`.\n",
      "  return get_prediction_index(\n",
      "c:\\Users\\ADMIN\\OneDrive\\Documents\\sales_forecasting_project\\.venv\\lib\\site-packages\\statsmodels\\tsa\\base\\tsa_model.py:837: ValueWarning: No supported index is available. Prediction results will be given with an integer index beginning at `start`.\n",
      "  return get_prediction_index(\n",
      "c:\\Users\\ADMIN\\OneDrive\\Documents\\sales_forecasting_project\\.venv\\lib\\site-packages\\statsmodels\\tsa\\base\\tsa_model.py:837: ValueWarning: No supported index is available. Prediction results will be given with an integer index beginning at `start`.\n",
      "  return get_prediction_index(\n",
      "c:\\Users\\ADMIN\\OneDrive\\Documents\\sales_forecasting_project\\.venv\\lib\\site-packages\\statsmodels\\tsa\\base\\tsa_model.py:837: ValueWarning: No supported index is available. Prediction results will be given with an integer index beginning at `start`.\n",
      "  return get_prediction_index(\n",
      "c:\\Users\\ADMIN\\OneDrive\\Documents\\sales_forecasting_project\\.venv\\lib\\site-packages\\statsmodels\\tsa\\base\\tsa_model.py:837: ValueWarning: No supported index is available. Prediction results will be given with an integer index beginning at `start`.\n",
      "  return get_prediction_index(\n",
      "c:\\Users\\ADMIN\\OneDrive\\Documents\\sales_forecasting_project\\.venv\\lib\\site-packages\\statsmodels\\tsa\\base\\tsa_model.py:837: ValueWarning: No supported index is available. Prediction results will be given with an integer index beginning at `start`.\n",
      "  return get_prediction_index(\n",
      "c:\\Users\\ADMIN\\OneDrive\\Documents\\sales_forecasting_project\\.venv\\lib\\site-packages\\statsmodels\\tsa\\base\\tsa_model.py:837: ValueWarning: No supported index is available. Prediction results will be given with an integer index beginning at `start`.\n",
      "  return get_prediction_index(\n",
      "c:\\Users\\ADMIN\\OneDrive\\Documents\\sales_forecasting_project\\.venv\\lib\\site-packages\\statsmodels\\tsa\\base\\tsa_model.py:837: ValueWarning: No supported index is available. Prediction results will be given with an integer index beginning at `start`.\n",
      "  return get_prediction_index(\n",
      "c:\\Users\\ADMIN\\OneDrive\\Documents\\sales_forecasting_project\\.venv\\lib\\site-packages\\statsmodels\\tsa\\base\\tsa_model.py:837: ValueWarning: No supported index is available. Prediction results will be given with an integer index beginning at `start`.\n",
      "  return get_prediction_index(\n",
      "c:\\Users\\ADMIN\\OneDrive\\Documents\\sales_forecasting_project\\.venv\\lib\\site-packages\\statsmodels\\tsa\\base\\tsa_model.py:837: ValueWarning: No supported index is available. Prediction results will be given with an integer index beginning at `start`.\n",
      "  return get_prediction_index(\n",
      "c:\\Users\\ADMIN\\OneDrive\\Documents\\sales_forecasting_project\\.venv\\lib\\site-packages\\statsmodels\\tsa\\base\\tsa_model.py:837: ValueWarning: No supported index is available. Prediction results will be given with an integer index beginning at `start`.\n",
      "  return get_prediction_index(\n",
      "c:\\Users\\ADMIN\\OneDrive\\Documents\\sales_forecasting_project\\.venv\\lib\\site-packages\\statsmodels\\tsa\\base\\tsa_model.py:837: ValueWarning: No supported index is available. Prediction results will be given with an integer index beginning at `start`.\n",
      "  return get_prediction_index(\n",
      "c:\\Users\\ADMIN\\OneDrive\\Documents\\sales_forecasting_project\\.venv\\lib\\site-packages\\statsmodels\\tsa\\base\\tsa_model.py:837: ValueWarning: No supported index is available. Prediction results will be given with an integer index beginning at `start`.\n",
      "  return get_prediction_index(\n",
      "C:\\Users\\ADMIN\\AppData\\Local\\Temp\\ipykernel_3836\\1410982123.py:52: SettingWithCopyWarning: \n",
      "A value is trying to be set on a copy of a slice from a DataFrame.\n",
      "Try using .loc[row_indexer,col_indexer] = value instead\n",
      "\n",
      "See the caveats in the documentation: https://pandas.pydata.org/pandas-docs/stable/user_guide/indexing.html#returning-a-view-versus-a-copy\n",
      "  test['SARIMA_Pred'] = sarima_preds\n"
     ]
    }
   ],
   "source": [
    "# notebooks/3_model_training.ipynb\n",
    "import pandas as pd\n",
    "import numpy as np\n",
    "from statsmodels.tsa.statespace.sarimax import SARIMAX\n",
    "import warnings\n",
    "\n",
    "# Load data (ensure this matches your actual data path)\n",
    "df = pd.read_csv(\"../data/processed/walmart_final.csv\")\n",
    "df['Date'] = pd.to_datetime(df['Date'])\n",
    "\n",
    "# Split data - use your actual cutoff date\n",
    "test_cutoff = df['Date'].max() - pd.DateOffset(months=3)\n",
    "train = df[df['Date'] < test_cutoff]\n",
    "test = df[df['Date'] >= test_cutoff]\n",
    "\n",
    "# Define stores list\n",
    "stores = df['Store'].unique()  # This creates the 'stores' variable\n",
    "\n",
    "# SARIMA training function\n",
    "def train_sarima(store_data):\n",
    "    with warnings.catch_warnings():\n",
    "        warnings.simplefilter(\"ignore\")\n",
    "        model = SARIMAX(store_data['Weekly_Sales'],\n",
    "                       order=(1, 1, 1),\n",
    "                       seasonal_order=(1, 1, 1, 12),\n",
    "                       enforce_stationarity=False)\n",
    "        return model.fit(disp=False)\n",
    "\n",
    "# Now this will work because 'stores' is defined\n",
    "sarima_models = {}\n",
    "for store in stores:\n",
    "    store_data = train[train['Store'] == store]\n",
    "    try:\n",
    "        sarima_models[store] = train_sarima(store_data)\n",
    "        print(f\"Trained SARIMA for Store {store}\")\n",
    "    except Exception as e:\n",
    "        print(f\"Failed for Store {store}: {str(e)}\")\n",
    "        continue\n",
    "\n",
    "# Generate predictions\n",
    "sarima_preds = []\n",
    "for store in test['Store'].unique():\n",
    "    if store in sarima_models:  # Only predict for successfully trained models\n",
    "        preds = sarima_models[store].predict(\n",
    "            start=len(train[train['Store'] == store]),\n",
    "            end=len(train[train['Store'] == store])+len(test[test['Store'] == store])-1\n",
    "        )\n",
    "        sarima_preds.extend(preds)\n",
    "    else:\n",
    "        sarima_preds.extend([np.nan] * len(test[test['Store'] == store]))\n",
    "\n",
    "test['SARIMA_Pred'] = sarima_preds"
   ]
  },
  {
   "cell_type": "code",
   "execution_count": 9,
   "id": "d3ba441b",
   "metadata": {},
   "outputs": [
    {
     "name": "stderr",
     "output_type": "stream",
     "text": [
      "C:\\Users\\ADMIN\\AppData\\Local\\Temp\\ipykernel_3836\\3790156303.py:37: SettingWithCopyWarning: \n",
      "A value is trying to be set on a copy of a slice from a DataFrame.\n",
      "Try using .loc[row_indexer,col_indexer] = value instead\n",
      "\n",
      "See the caveats in the documentation: https://pandas.pydata.org/pandas-docs/stable/user_guide/indexing.html#returning-a-view-versus-a-copy\n",
      "  test['XGB_Pred'] = model.predict(X_test_scaled)\n"
     ]
    },
    {
     "name": "stdout",
     "output_type": "stream",
     "text": [
      "XGBoost MAE: $48,432\n",
      "XGBoost RMSE: $62,059\n"
     ]
    },
    {
     "data": {
      "image/png": "[encoded data removed]",
      "text/plain": [
       "<Figure size 640x480 with 1 Axes>"
      ]
     },
     "metadata": {},
     "output_type": "display_data"
    }
   ],
   "source": [
    "# notebooks/3_model_training.ipynb\n",
    "import pandas as pd\n",
    "import numpy as np\n",
    "import xgboost as xgb\n",
    "from sklearn.preprocessing import StandardScaler\n",
    "from sklearn.metrics import mean_absolute_error, mean_squared_error  # <-- ADD THIS IMPORT\n",
    "import matplotlib.pyplot as plt\n",
    "\n",
    "# Load preprocessed data\n",
    "df = pd.read_csv(\"../data/processed/walmart_final.csv\")\n",
    "df['Date'] = pd.to_datetime(df['Date'])\n",
    "\n",
    "# Split data (last 3 months for test)\n",
    "test_cutoff = df['Date'].max() - pd.DateOffset(months=3)\n",
    "train = df[df['Date'] < test_cutoff]\n",
    "test = df[df['Date'] >= test_cutoff]\n",
    "\n",
    "# Features and target\n",
    "features = [col for col in df.columns if col not in ['Date', 'Weekly_Sales', 'Store']]\n",
    "X_train, X_test = train[features], test[features]\n",
    "y_train, y_test = train['Weekly_Sales'], test['Weekly_Sales']\n",
    "\n",
    "# Scale numeric features\n",
    "scaler = StandardScaler()\n",
    "X_train_scaled = scaler.fit_transform(X_train)\n",
    "X_test_scaled = scaler.transform(X_test)\n",
    "\n",
    "# Train XGBoost\n",
    "model = xgb.XGBRegressor(\n",
    "    n_estimators=300,\n",
    "    learning_rate=0.05,\n",
    "    random_state=42\n",
    ")\n",
    "model.fit(X_train_scaled, y_train)\n",
    "\n",
    "# Evaluate\n",
    "test['XGB_Pred'] = model.predict(X_test_scaled)\n",
    "print(f\"XGBoost MAE: ${mean_absolute_error(y_test, test['XGB_Pred']):,.0f}\")\n",
    "print(f\"XGBoost RMSE: ${np.sqrt(mean_squared_error(y_test, test['XGB_Pred'])):,.0f}\")\n",
    "\n",
    "# Feature importance\n",
    "xgb.plot_importance(model, height=0.8)\n",
    "plt.tight_layout()\n",
    "plt.savefig(\"../reports/plots/xgb_feature_importance.png\")\n",
    "plt.show()"
   ]
  },
  {
   "cell_type": "code",
   "execution_count": 13,
   "id": "18275775",
   "metadata": {},
   "outputs": [
    {
     "name": "stderr",
     "output_type": "stream",
     "text": [
      "11:59:22 - cmdstanpy - INFO - Chain [1] start processing\n",
      "11:59:26 - cmdstanpy - INFO - Chain [1] done processing\n",
      "11:59:26 - cmdstanpy - INFO - Chain [1] start processing\n"
     ]
    },
    {
     "name": "stdout",
     "output_type": "stream",
     "text": [
      "Successfully trained Prophet for Store 1\n"
     ]
    },
    {
     "name": "stderr",
     "output_type": "stream",
     "text": [
      "11:59:26 - cmdstanpy - INFO - Chain [1] done processing\n",
      "11:59:26 - cmdstanpy - INFO - Chain [1] start processing\n"
     ]
    },
    {
     "name": "stdout",
     "output_type": "stream",
     "text": [
      "Successfully trained Prophet for Store 2\n"
     ]
    },
    {
     "name": "stderr",
     "output_type": "stream",
     "text": [
      "11:59:27 - cmdstanpy - INFO - Chain [1] done processing\n",
      "11:59:27 - cmdstanpy - INFO - Chain [1] start processing\n"
     ]
    },
    {
     "name": "stdout",
     "output_type": "stream",
     "text": [
      "Successfully trained Prophet for Store 3\n"
     ]
    },
    {
     "name": "stderr",
     "output_type": "stream",
     "text": [
      "11:59:43 - cmdstanpy - INFO - Chain [1] done processing\n",
      "11:59:43 - cmdstanpy - INFO - Chain [1] start processing\n"
     ]
    },
    {
     "name": "stdout",
     "output_type": "stream",
     "text": [
      "Successfully trained Prophet for Store 4\n"
     ]
    },
    {
     "name": "stderr",
     "output_type": "stream",
     "text": [
      "11:59:44 - cmdstanpy - INFO - Chain [1] done processing\n",
      "11:59:44 - cmdstanpy - INFO - Chain [1] start processing\n"
     ]
    },
    {
     "name": "stdout",
     "output_type": "stream",
     "text": [
      "Successfully trained Prophet for Store 5\n"
     ]
    },
    {
     "name": "stderr",
     "output_type": "stream",
     "text": [
      "11:59:45 - cmdstanpy - INFO - Chain [1] done processing\n",
      "11:59:45 - cmdstanpy - INFO - Chain [1] start processing\n"
     ]
    },
    {
     "name": "stdout",
     "output_type": "stream",
     "text": [
      "Successfully trained Prophet for Store 6\n"
     ]
    },
    {
     "name": "stderr",
     "output_type": "stream",
     "text": [
      "11:59:45 - cmdstanpy - INFO - Chain [1] done processing\n",
      "11:59:45 - cmdstanpy - INFO - Chain [1] start processing\n"
     ]
    },
    {
     "name": "stdout",
     "output_type": "stream",
     "text": [
      "Successfully trained Prophet for Store 7\n"
     ]
    },
    {
     "name": "stderr",
     "output_type": "stream",
     "text": [
      "12:00:01 - cmdstanpy - INFO - Chain [1] done processing\n",
      "12:00:01 - cmdstanpy - INFO - Chain [1] start processing\n"
     ]
    },
    {
     "name": "stdout",
     "output_type": "stream",
     "text": [
      "Successfully trained Prophet for Store 8\n"
     ]
    },
    {
     "name": "stderr",
     "output_type": "stream",
     "text": [
      "12:00:02 - cmdstanpy - INFO - Chain [1] done processing\n",
      "12:00:02 - cmdstanpy - INFO - Chain [1] start processing\n"
     ]
    },
    {
     "name": "stdout",
     "output_type": "stream",
     "text": [
      "Successfully trained Prophet for Store 9\n"
     ]
    },
    {
     "name": "stderr",
     "output_type": "stream",
     "text": [
      "12:00:05 - cmdstanpy - INFO - Chain [1] done processing\n",
      "12:00:05 - cmdstanpy - INFO - Chain [1] start processing\n"
     ]
    },
    {
     "name": "stdout",
     "output_type": "stream",
     "text": [
      "Successfully trained Prophet for Store 10\n"
     ]
    },
    {
     "name": "stderr",
     "output_type": "stream",
     "text": [
      "12:00:21 - cmdstanpy - INFO - Chain [1] done processing\n",
      "12:00:21 - cmdstanpy - INFO - Chain [1] start processing\n"
     ]
    },
    {
     "name": "stdout",
     "output_type": "stream",
     "text": [
      "Successfully trained Prophet for Store 11\n"
     ]
    },
    {
     "name": "stderr",
     "output_type": "stream",
     "text": [
      "12:00:36 - cmdstanpy - INFO - Chain [1] done processing\n",
      "12:00:37 - cmdstanpy - INFO - Chain [1] start processing\n"
     ]
    },
    {
     "name": "stdout",
     "output_type": "stream",
     "text": [
      "Successfully trained Prophet for Store 12\n"
     ]
    },
    {
     "name": "stderr",
     "output_type": "stream",
     "text": [
      "12:00:37 - cmdstanpy - INFO - Chain [1] done processing\n",
      "12:00:37 - cmdstanpy - INFO - Chain [1] start processing\n"
     ]
    },
    {
     "name": "stdout",
     "output_type": "stream",
     "text": [
      "Successfully trained Prophet for Store 13\n"
     ]
    },
    {
     "name": "stderr",
     "output_type": "stream",
     "text": [
      "12:00:40 - cmdstanpy - INFO - Chain [1] done processing\n",
      "12:00:40 - cmdstanpy - INFO - Chain [1] start processing\n"
     ]
    },
    {
     "name": "stdout",
     "output_type": "stream",
     "text": [
      "Successfully trained Prophet for Store 14\n"
     ]
    },
    {
     "name": "stderr",
     "output_type": "stream",
     "text": [
      "12:00:56 - cmdstanpy - INFO - Chain [1] done processing\n",
      "12:00:56 - cmdstanpy - INFO - Chain [1] start processing\n"
     ]
    },
    {
     "name": "stdout",
     "output_type": "stream",
     "text": [
      "Successfully trained Prophet for Store 15\n"
     ]
    },
    {
     "name": "stderr",
     "output_type": "stream",
     "text": [
      "12:01:11 - cmdstanpy - INFO - Chain [1] done processing\n",
      "12:01:11 - cmdstanpy - INFO - Chain [1] start processing\n"
     ]
    },
    {
     "name": "stdout",
     "output_type": "stream",
     "text": [
      "Successfully trained Prophet for Store 16\n"
     ]
    },
    {
     "name": "stderr",
     "output_type": "stream",
     "text": [
      "12:01:13 - cmdstanpy - INFO - Chain [1] done processing\n",
      "12:01:13 - cmdstanpy - INFO - Chain [1] start processing\n"
     ]
    },
    {
     "name": "stdout",
     "output_type": "stream",
     "text": [
      "Successfully trained Prophet for Store 17\n"
     ]
    },
    {
     "name": "stderr",
     "output_type": "stream",
     "text": [
      "12:01:14 - cmdstanpy - INFO - Chain [1] done processing\n"
     ]
    },
    {
     "name": "stdout",
     "output_type": "stream",
     "text": [
      "Successfully trained Prophet for Store 18\n"
     ]
    },
    {
     "name": "stderr",
     "output_type": "stream",
     "text": [
      "12:01:14 - cmdstanpy - INFO - Chain [1] start processing\n",
      "12:01:14 - cmdstanpy - INFO - Chain [1] done processing\n",
      "12:01:15 - cmdstanpy - INFO - Chain [1] start processing\n"
     ]
    },
    {
     "name": "stdout",
     "output_type": "stream",
     "text": [
      "Successfully trained Prophet for Store 19\n"
     ]
    },
    {
     "name": "stderr",
     "output_type": "stream",
     "text": [
      "12:01:15 - cmdstanpy - INFO - Chain [1] done processing\n",
      "12:01:15 - cmdstanpy - INFO - Chain [1] start processing\n"
     ]
    },
    {
     "name": "stdout",
     "output_type": "stream",
     "text": [
      "Successfully trained Prophet for Store 20\n"
     ]
    },
    {
     "name": "stderr",
     "output_type": "stream",
     "text": [
      "12:01:30 - cmdstanpy - INFO - Chain [1] done processing\n",
      "12:01:30 - cmdstanpy - INFO - Chain [1] start processing\n"
     ]
    },
    {
     "name": "stdout",
     "output_type": "stream",
     "text": [
      "Successfully trained Prophet for Store 21\n"
     ]
    },
    {
     "name": "stderr",
     "output_type": "stream",
     "text": [
      "12:01:31 - cmdstanpy - INFO - Chain [1] done processing\n",
      "12:01:31 - cmdstanpy - INFO - Chain [1] start processing\n"
     ]
    },
    {
     "name": "stdout",
     "output_type": "stream",
     "text": [
      "Successfully trained Prophet for Store 22\n"
     ]
    },
    {
     "name": "stderr",
     "output_type": "stream",
     "text": [
      "12:01:31 - cmdstanpy - INFO - Chain [1] done processing\n"
     ]
    },
    {
     "name": "stdout",
     "output_type": "stream",
     "text": [
      "Successfully trained Prophet for Store 23\n"
     ]
    },
    {
     "name": "stderr",
     "output_type": "stream",
     "text": [
      "12:01:32 - cmdstanpy - INFO - Chain [1] start processing\n",
      "12:01:33 - cmdstanpy - INFO - Chain [1] done processing\n",
      "12:01:33 - cmdstanpy - INFO - Chain [1] start processing\n"
     ]
    },
    {
     "name": "stdout",
     "output_type": "stream",
     "text": [
      "Successfully trained Prophet for Store 24\n"
     ]
    },
    {
     "name": "stderr",
     "output_type": "stream",
     "text": [
      "12:01:33 - cmdstanpy - INFO - Chain [1] done processing\n",
      "12:01:33 - cmdstanpy - INFO - Chain [1] start processing\n"
     ]
    },
    {
     "name": "stdout",
     "output_type": "stream",
     "text": [
      "Successfully trained Prophet for Store 25\n"
     ]
    },
    {
     "name": "stderr",
     "output_type": "stream",
     "text": [
      "12:01:34 - cmdstanpy - INFO - Chain [1] done processing\n",
      "12:01:34 - cmdstanpy - INFO - Chain [1] start processing\n"
     ]
    },
    {
     "name": "stdout",
     "output_type": "stream",
     "text": [
      "Successfully trained Prophet for Store 26\n"
     ]
    },
    {
     "name": "stderr",
     "output_type": "stream",
     "text": [
      "12:01:50 - cmdstanpy - INFO - Chain [1] done processing\n",
      "12:01:50 - cmdstanpy - INFO - Chain [1] start processing\n"
     ]
    },
    {
     "name": "stdout",
     "output_type": "stream",
     "text": [
      "Successfully trained Prophet for Store 27\n"
     ]
    },
    {
     "name": "stderr",
     "output_type": "stream",
     "text": [
      "12:01:54 - cmdstanpy - INFO - Chain [1] done processing\n",
      "12:01:55 - cmdstanpy - INFO - Chain [1] start processing\n"
     ]
    },
    {
     "name": "stdout",
     "output_type": "stream",
     "text": [
      "Successfully trained Prophet for Store 28\n"
     ]
    },
    {
     "name": "stderr",
     "output_type": "stream",
     "text": [
      "12:01:58 - cmdstanpy - INFO - Chain [1] done processing\n",
      "12:01:58 - cmdstanpy - INFO - Chain [1] start processing\n"
     ]
    },
    {
     "name": "stdout",
     "output_type": "stream",
     "text": [
      "Successfully trained Prophet for Store 29\n"
     ]
    },
    {
     "name": "stderr",
     "output_type": "stream",
     "text": [
      "12:01:59 - cmdstanpy - INFO - Chain [1] done processing\n"
     ]
    },
    {
     "name": "stdout",
     "output_type": "stream",
     "text": [
      "Successfully trained Prophet for Store 30\n"
     ]
    },
    {
     "name": "stderr",
     "output_type": "stream",
     "text": [
      "12:01:59 - cmdstanpy - INFO - Chain [1] start processing\n",
      "12:01:59 - cmdstanpy - INFO - Chain [1] done processing\n",
      "12:02:00 - cmdstanpy - INFO - Chain [1] start processing\n"
     ]
    },
    {
     "name": "stdout",
     "output_type": "stream",
     "text": [
      "Successfully trained Prophet for Store 31\n"
     ]
    },
    {
     "name": "stderr",
     "output_type": "stream",
     "text": [
      "12:02:00 - cmdstanpy - INFO - Chain [1] done processing\n",
      "12:02:00 - cmdstanpy - INFO - Chain [1] start processing\n"
     ]
    },
    {
     "name": "stdout",
     "output_type": "stream",
     "text": [
      "Successfully trained Prophet for Store 32\n"
     ]
    },
    {
     "name": "stderr",
     "output_type": "stream",
     "text": [
      "12:02:15 - cmdstanpy - INFO - Chain [1] done processing\n",
      "12:02:15 - cmdstanpy - INFO - Chain [1] start processing\n"
     ]
    },
    {
     "name": "stdout",
     "output_type": "stream",
     "text": [
      "Successfully trained Prophet for Store 33\n"
     ]
    },
    {
     "name": "stderr",
     "output_type": "stream",
     "text": [
      "12:02:18 - cmdstanpy - INFO - Chain [1] done processing\n"
     ]
    },
    {
     "name": "stdout",
     "output_type": "stream",
     "text": [
      "Successfully trained Prophet for Store 34\n"
     ]
    },
    {
     "name": "stderr",
     "output_type": "stream",
     "text": [
      "12:02:18 - cmdstanpy - INFO - Chain [1] start processing\n",
      "12:02:18 - cmdstanpy - INFO - Chain [1] done processing\n",
      "12:02:18 - cmdstanpy - INFO - Chain [1] start processing\n"
     ]
    },
    {
     "name": "stdout",
     "output_type": "stream",
     "text": [
      "Successfully trained Prophet for Store 35\n"
     ]
    },
    {
     "name": "stderr",
     "output_type": "stream",
     "text": [
      "12:02:19 - cmdstanpy - INFO - Chain [1] done processing\n",
      "12:02:19 - cmdstanpy - INFO - Chain [1] start processing\n"
     ]
    },
    {
     "name": "stdout",
     "output_type": "stream",
     "text": [
      "Successfully trained Prophet for Store 36\n"
     ]
    },
    {
     "name": "stderr",
     "output_type": "stream",
     "text": [
      "12:02:19 - cmdstanpy - INFO - Chain [1] done processing\n",
      "12:02:20 - cmdstanpy - INFO - Chain [1] start processing\n"
     ]
    },
    {
     "name": "stdout",
     "output_type": "stream",
     "text": [
      "Successfully trained Prophet for Store 37\n"
     ]
    },
    {
     "name": "stderr",
     "output_type": "stream",
     "text": [
      "12:02:34 - cmdstanpy - INFO - Chain [1] done processing\n",
      "12:02:34 - cmdstanpy - INFO - Chain [1] start processing\n"
     ]
    },
    {
     "name": "stdout",
     "output_type": "stream",
     "text": [
      "Successfully trained Prophet for Store 38\n"
     ]
    },
    {
     "name": "stderr",
     "output_type": "stream",
     "text": [
      "12:02:37 - cmdstanpy - INFO - Chain [1] done processing\n",
      "12:02:37 - cmdstanpy - INFO - Chain [1] start processing\n"
     ]
    },
    {
     "name": "stdout",
     "output_type": "stream",
     "text": [
      "Successfully trained Prophet for Store 39\n"
     ]
    },
    {
     "name": "stderr",
     "output_type": "stream",
     "text": [
      "12:02:39 - cmdstanpy - INFO - Chain [1] done processing\n"
     ]
    },
    {
     "name": "stdout",
     "output_type": "stream",
     "text": [
      "Successfully trained Prophet for Store 40\n"
     ]
    },
    {
     "name": "stderr",
     "output_type": "stream",
     "text": [
      "12:02:39 - cmdstanpy - INFO - Chain [1] start processing\n",
      "12:02:54 - cmdstanpy - INFO - Chain [1] done processing\n",
      "12:02:54 - cmdstanpy - INFO - Chain [1] start processing\n"
     ]
    },
    {
     "name": "stdout",
     "output_type": "stream",
     "text": [
      "Successfully trained Prophet for Store 41\n"
     ]
    },
    {
     "name": "stderr",
     "output_type": "stream",
     "text": [
      "12:03:10 - cmdstanpy - INFO - Chain [1] done processing\n",
      "12:03:10 - cmdstanpy - INFO - Chain [1] start processing\n"
     ]
    },
    {
     "name": "stdout",
     "output_type": "stream",
     "text": [
      "Successfully trained Prophet for Store 42\n"
     ]
    },
    {
     "name": "stderr",
     "output_type": "stream",
     "text": [
      "12:03:27 - cmdstanpy - INFO - Chain [1] done processing\n",
      "12:03:27 - cmdstanpy - INFO - Chain [1] start processing\n"
     ]
    },
    {
     "name": "stdout",
     "output_type": "stream",
     "text": [
      "Successfully trained Prophet for Store 43\n"
     ]
    },
    {
     "name": "stderr",
     "output_type": "stream",
     "text": [
      "12:03:27 - cmdstanpy - INFO - Chain [1] done processing\n",
      "12:03:27 - cmdstanpy - INFO - Chain [1] start processing\n"
     ]
    },
    {
     "name": "stdout",
     "output_type": "stream",
     "text": [
      "Successfully trained Prophet for Store 44\n"
     ]
    },
    {
     "name": "stderr",
     "output_type": "stream",
     "text": [
      "12:03:45 - cmdstanpy - INFO - Chain [1] done processing\n"
     ]
    },
    {
     "name": "stdout",
     "output_type": "stream",
     "text": [
      "Successfully trained Prophet for Store 45\n",
      "Prophet MAE: 833,899\n"
     ]
    },
    {
     "name": "stderr",
     "output_type": "stream",
     "text": [
      "C:\\Users\\ADMIN\\AppData\\Local\\Temp\\ipykernel_3836\\622139088.py:57: SettingWithCopyWarning: \n",
      "A value is trying to be set on a copy of a slice from a DataFrame.\n",
      "Try using .loc[row_indexer,col_indexer] = value instead\n",
      "\n",
      "See the caveats in the documentation: https://pandas.pydata.org/pandas-docs/stable/user_guide/indexing.html#returning-a-view-versus-a-copy\n",
      "  test['Prophet_Pred'] = prophet_preds\n"
     ]
    }
   ],
   "source": [
    "# notebooks/3_model_training.ipynb\n",
    "from prophet import Prophet\n",
    "import pandas as pd\n",
    "\n",
    "# Load data\n",
    "df = pd.read_csv(\"../data/processed/walmart_final.csv\")\n",
    "df['Date'] = pd.to_datetime(df['Date'])\n",
    "\n",
    "# Split data\n",
    "test_cutoff = df['Date'].max() - pd.DateOffset(months=3)\n",
    "train = df[df['Date'] < test_cutoff]\n",
    "test = df[df['Date'] >= test_cutoff]\n",
    "\n",
    "def train_prophet(store_data):\n",
    "    # Prepare DataFrame with required columns\n",
    "    prophet_df = store_data[['Date', 'Weekly_Sales', 'Holiday_Flag', 'Temperature', 'CPI']].copy()\n",
    "    prophet_df = prophet_df.rename(columns={'Date': 'ds', 'Weekly_Sales': 'y'})\n",
    "    \n",
    "    # Initialize model\n",
    "    model = Prophet(\n",
    "        yearly_seasonality=True,\n",
    "        weekly_seasonality=True,\n",
    "        daily_seasonality=False\n",
    "    )\n",
    "    \n",
    "    # Add regressors (must match columns in prophet_df)\n",
    "    model.add_regressor('Holiday_Flag')\n",
    "    model.add_regressor('Temperature')\n",
    "    model.add_regressor('CPI')\n",
    "    \n",
    "    return model.fit(prophet_df)\n",
    "\n",
    "# Train per-store\n",
    "prophet_models = {}\n",
    "stores = df['Store'].unique()\n",
    "\n",
    "for store in stores:\n",
    "    try:\n",
    "        store_data = train[train['Store'] == store]\n",
    "        prophet_models[store] = train_prophet(store_data)\n",
    "        print(f\"Successfully trained Prophet for Store {store}\")\n",
    "    except Exception as e:\n",
    "        print(f\"Failed for Store {store}: {str(e)}\")\n",
    "        continue\n",
    "\n",
    "# Generate predictions\n",
    "prophet_preds = []\n",
    "for store in test['Store'].unique():\n",
    "    if store in prophet_models:\n",
    "        future = test[test['Store'] == store][['Date', 'Holiday_Flag', 'Temperature', 'CPI']]\n",
    "        future = future.rename(columns={'Date': 'ds'})\n",
    "        forecast = prophet_models[store].predict(future)\n",
    "        prophet_preds.extend(forecast['yhat'].values)\n",
    "    else:\n",
    "        prophet_preds.extend([None] * len(test[test['Store'] == store]))\n",
    "\n",
    "test['Prophet_Pred'] = prophet_preds\n",
    "\n",
    "# Evaluation\n",
    "valid_preds = test[test['Prophet_Pred'].notnull()]\n",
    "if len(valid_preds) > 0:\n",
    "    from sklearn.metrics import mean_absolute_error\n",
    "    print(f\"Prophet MAE: {mean_absolute_error(valid_preds['Weekly_Sales'], valid_preds['Prophet_Pred']):,.0f}\")\n",
    "else:\n",
    "    print(\"No valid predictions generated\")"
   ]
  },
  {
   "cell_type": "code",
   "execution_count": 18,
   "id": "7413b303",
   "metadata": {},
   "outputs": [
    {
     "name": "stdout",
     "output_type": "stream",
     "text": [
      "Model Comparison Results:\n",
      "     Model            MAE\n",
      "0  Prophet  833898.745216\n"
     ]
    },
    {
     "data": {
      "image/png": "[encoded data removed]",
      "text/plain": [
       "<Figure size 1200x600 with 1 Axes>"
      ]
     },
     "metadata": {},
     "output_type": "display_data"
    }
   ],
   "source": [
    "# notebooks/3_model_training.ipynb\n",
    "from sklearn.metrics import mean_absolute_error\n",
    "import pandas as pd\n",
    "\n",
    "# Initialize results dictionary\n",
    "results = {'Model': [], 'MAE': []}\n",
    "\n",
    "# Check and add SARIMA results if available\n",
    "if 'SARIMA_Pred' in test.columns and test['SARIMA_Pred'].notnull().any():\n",
    "    results['Model'].append('SARIMA')\n",
    "    results['MAE'].append(mean_absolute_error(\n",
    "        test['Weekly_Sales'], \n",
    "        test['SARIMA_Pred']\n",
    "    ))\n",
    "\n",
    "# Check and add XGBoost results if available\n",
    "if 'XGB_Pred' in test.columns and test['XGB_Pred'].notnull().any():\n",
    "    results['Model'].append('XGBoost')\n",
    "    results['MAE'].append(mean_absolute_error(\n",
    "        test['Weekly_Sales'], \n",
    "        test['XGB_Pred']\n",
    "    ))\n",
    "\n",
    "# Check and add Prophet results if available\n",
    "if 'Prophet_Pred' in test.columns and test['Prophet_Pred'].notnull().any():\n",
    "    results['Model'].append('Prophet')\n",
    "    results['MAE'].append(mean_absolute_error(\n",
    "        test['Weekly_Sales'], \n",
    "        test['Prophet_Pred']\n",
    "    ))\n",
    "\n",
    "# Create DataFrame and sort by MAE (lower is better)\n",
    "results_df = pd.DataFrame(results).sort_values('MAE')\n",
    "print(\"Model Comparison Results:\")\n",
    "print(results_df)\n",
    "\n",
    "# Visual comparison (only plot models that have predictions)\n",
    "plt.figure(figsize=(12, 6))\n",
    "plt.plot(test['Date'], test['Weekly_Sales'], label='Actual', color='black', alpha=0.5)\n",
    "\n",
    "if 'XGB_Pred' in test.columns:\n",
    "    plt.plot(test['Date'], test['XGB_Pred'], label='XGBoost', alpha=0.8)\n",
    "\n",
    "if 'Prophet_Pred' in test.columns:\n",
    "    plt.plot(test['Date'], test['Prophet_Pred'], label='Prophet', alpha=0.8)\n",
    "\n",
    "if 'SARIMA_Pred' in test.columns:\n",
    "    plt.plot(test['Date'], test['SARIMA_Pred'], label='SARIMA', alpha=0.8)\n",
    "\n",
    "plt.title(\"Model Predictions vs Actual Sales\")\n",
    "plt.xlabel(\"Date\")\n",
    "plt.ylabel(\"Weekly Sales ($)\")\n",
    "plt.legend()\n",
    "plt.grid(True)\n",
    "plt.tight_layout()\n",
    "plt.savefig(\"../reports/plots/model_comparison.png\")\n",
    "plt.show()"
   ]
  },
  {
   "cell_type": "code",
   "execution_count": 19,
   "id": "cb36e188",
   "metadata": {},
   "outputs": [
    {
     "name": "stdout",
     "output_type": "stream",
     "text": [
      "Available columns: ['Store', 'Date', 'Weekly_Sales', 'Holiday_Flag', 'Temperature', 'Fuel_Price', 'CPI', 'Unemployment', 'Year', 'Quarter', 'Is_month_end', 'Day_sin', 'day_cos', 'Month_sin', 'Month_cos', 'Lag_1', 'Rolling_4', 'Rolling_12', 'Fuel_Change', 'CPI_Change', 'Unemployment_Rel', 'Month', 'Week', 'Is_Thanksgiving', 'Is_Christmas', 'Prophet_Pred']\n"
     ]
    }
   ],
   "source": [
    "print(\"Available columns:\", test.columns.tolist())"
   ]
  },
  {
   "cell_type": "code",
   "execution_count": 20,
   "id": "489ad8c1",
   "metadata": {},
   "outputs": [],
   "source": [
    "if 'SARIMA_Pred' in test.columns:\n",
    "    print(\"SARIMA nulls:\", test['SARIMA_Pred'].isnull().sum())"
   ]
  },
  {
   "cell_type": "code",
   "execution_count": 21,
   "id": "8c0755d1",
   "metadata": {},
   "outputs": [],
   "source": [
    "if 'XGB_Pred' in test.columns:\n",
    "    print(\"XGBoost sample predictions:\", test['XGB_Pred'].head())"
   ]
  },
  {
   "cell_type": "code",
   "execution_count": 15,
   "id": "68e6e86d",
   "metadata": {},
   "outputs": [
    {
     "name": "stdout",
     "output_type": "stream",
     "text": [
      "        Date  Weekly_Sales  Holiday_Flag  Temperature         CPI\n",
      "0 2010-09-10    1507460.69             1        78.69  211.495190\n",
      "1 2010-11-26    1955624.11             1        64.52  211.748433\n",
      "2 2010-12-31    1367320.01             1        48.43  211.404932\n",
      "3 2011-02-11    1649614.93             1        36.39  212.936705\n",
      "4 2011-09-09    1540471.24             1        76.00  215.861056\n"
     ]
    }
   ],
   "source": [
    "print(df[['Date', 'Weekly_Sales', 'Holiday_Flag', 'Temperature', 'CPI']].head())"
   ]
  },
  {
   "cell_type": "code",
   "execution_count": 16,
   "id": "143c9d6c",
   "metadata": {},
   "outputs": [
    {
     "name": "stdout",
     "output_type": "stream",
     "text": [
      "Holiday_Flag    0\n",
      "Temperature     0\n",
      "CPI             0\n",
      "dtype: int64\n"
     ]
    }
   ],
   "source": [
    "print(df[['Holiday_Flag', 'Temperature', 'CPI']].isnull().sum())"
   ]
  }
 ],
 "metadata": {
  "kernelspec": {
   "display_name": ".venv",
   "language": "python",
   "name": "python3"
  },
  "language_info": {
   "codemirror_mode": {
    "name": "ipython",
    "version": 3
   },
   "file_extension": ".py",
   "mimetype": "text/x-python",
   "name": "python",
   "nbconvert_exporter": "python",
   "pygments_lexer": "ipython3",
   "version": "3.10.11"
  }
 },
 "nbformat": 4,
 "nbformat_minor": 5
}
