{
 "cells": [
  {
   "cell_type": "code",
   "execution_count": 2,
   "id": "3bb72f04",
   "metadata": {},
   "outputs": [
    {
     "name": "stdout",
     "output_type": "stream",
     "text": [
      "Fitting 3 folds for each of 108 candidates, totalling 324 fits\n",
      "Best MAE: 77,748\n",
      "Best Parameters: {'colsample_bytree': 0.8, 'learning_rate': 0.05, 'max_depth': 3, 'n_estimators': 300, 'subsample': 0.8}\n"
     ]
    },
    {
     "data": {
      "text/plain": [
       "['../models/scaler.pkl']"
      ]
     },
     "execution_count": 2,
     "metadata": {},
     "output_type": "execute_result"
    }
   ],
   "source": [
    "# notebooks/4_model_optimization.ipynb\n",
    "import pandas as pd\n",
    "import numpy as np\n",
    "from sklearn.model_selection import GridSearchCV, train_test_split\n",
    "from sklearn.preprocessing import StandardScaler\n",
    "from sklearn.metrics import mean_absolute_error\n",
    "from xgboost import XGBRegressor\n",
    "import joblib\n",
    "\n",
    "# 1. Load Data\n",
    "df = pd.read_csv(\"../data/processed/walmart_final.csv\")\n",
    "\n",
    "# 2. Prepare Features/Target\n",
    "features = [col for col in df.columns if col not in ['Date', 'Weekly_Sales', 'Store']]\n",
    "X = df[features]\n",
    "y = df['Weekly_Sales']\n",
    "\n",
    "# 3. Train-Test Split\n",
    "X_train, X_test, y_train, y_test = train_test_split(\n",
    "    X, y, test_size=0.2, random_state=42\n",
    ")\n",
    "\n",
    "# 4. Feature Scaling\n",
    "scaler = StandardScaler()\n",
    "X_train_scaled = scaler.fit_transform(X_train)  # <-- THIS DEFINES X_train_scaled\n",
    "X_test_scaled = scaler.transform(X_test)\n",
    "\n",
    "# 5. Parameter Grid\n",
    "param_grid = {\n",
    "    'n_estimators': [100, 200, 300],\n",
    "    'max_depth': [3, 5, 7],\n",
    "    'learning_rate': [0.01, 0.05, 0.1],\n",
    "    'subsample': [0.8, 1.0],\n",
    "    'colsample_bytree': [0.8, 1.0]\n",
    "}\n",
    "\n",
    "# 6. Initialize and Fit GridSearch\n",
    "xgb = XGBRegressor(random_state=42)\n",
    "grid_search = GridSearchCV(\n",
    "    estimator=xgb,\n",
    "    param_grid=param_grid,\n",
    "    cv=3,\n",
    "    scoring='neg_mean_absolute_error',\n",
    "    n_jobs=-1,\n",
    "    verbose=1\n",
    ")\n",
    "\n",
    "grid_search.fit(X_train_scaled, y_train)  # <-- NOW THIS WILL WORK\n",
    "\n",
    "# 7. Evaluate Best Model\n",
    "best_xgb = grid_search.best_estimator_\n",
    "test_pred = best_xgb.predict(X_test_scaled)\n",
    "mae = mean_absolute_error(y_test, test_pred)\n",
    "\n",
    "print(f\"Best MAE: {mae:,.0f}\")\n",
    "print(\"Best Parameters:\", grid_search.best_params_)\n",
    "\n",
    "# 8. Save Artifacts\n",
    "joblib.dump(best_xgb, '../models/xgb_optimized.pkl')\n",
    "joblib.dump(scaler, '../models/scaler.pkl')"
   ]
  }
 ],
 "metadata": {
  "kernelspec": {
   "display_name": ".venv",
   "language": "python",
   "name": "python3"
  },
  "language_info": {
   "codemirror_mode": {
    "name": "ipython",
    "version": 3
   },
   "file_extension": ".py",
   "mimetype": "text/x-python",
   "name": "python",
   "nbconvert_exporter": "python",
   "pygments_lexer": "ipython3",
   "version": "3.10.11"
  }
 },
 "nbformat": 4,
 "nbformat_minor": 5
}
